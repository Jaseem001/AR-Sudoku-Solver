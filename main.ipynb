{
 "cells": [
  {
   "cell_type": "code",
   "execution_count": null,
   "metadata": {
    "scrolled": true
   },
   "outputs": [],
   "source": [
    "!pip install numpy==1.16.0\n",
    "!pip install tensorflow==2.3.1 --user"
   ]
  },
  {
   "cell_type": "code",
   "execution_count": 1,
   "metadata": {},
   "outputs": [],
   "source": [
    "import numpy as np\n",
    "import cv2 as cv\n",
    "import matplotlib.pyplot as plt\n",
    "import tensorflow as tf\n",
    "import keras\n",
    "from keras.models import load_model"
   ]
  },
  {
   "cell_type": "code",
   "execution_count": 2,
   "metadata": {},
   "outputs": [
    {
     "data": {
      "text/plain": [
       "'2.3.1'"
      ]
     },
     "execution_count": 2,
     "metadata": {},
     "output_type": "execute_result"
    }
   ],
   "source": [
    "tf.__version__"
   ]
  },
  {
   "cell_type": "code",
   "execution_count": 3,
   "metadata": {},
   "outputs": [],
   "source": [
    "model = load_model('Models\\model_40x40.hdf5')\n",
    "IMG_WIDTH = IMG_HEIGHT = 750"
   ]
  },
  {
   "cell_type": "code",
   "execution_count": 4,
   "metadata": {},
   "outputs": [],
   "source": [
    "# cap = cv.VideoCapture(0)\n",
    "# cap.set(3, 640)\n",
    "# cap.set(4, 480)"
   ]
  },
  {
   "cell_type": "code",
   "execution_count": 5,
   "metadata": {},
   "outputs": [],
   "source": [
    "def biggestContour(contours):\n",
    "    \"\"\"Finds the biggest contour in the image\"\"\"\n",
    "    max_area = 0\n",
    "    for contour in contours:\n",
    "        area = cv.contourArea(contour)\n",
    "        perimeter = cv.arcLength(contour, True)\n",
    "        vertices = cv.approxPolyDP(contour, 0.02*perimeter, True)\n",
    "        if area > max_area and len(vertices == 4):\n",
    "            max_area = area\n",
    "            biggest = vertices\n",
    "    return biggest"
   ]
  },
  {
   "cell_type": "code",
   "execution_count": 6,
   "metadata": {},
   "outputs": [],
   "source": [
    "def getBinary(img, biggest):\n",
    "#     peri = cv.arcLength(biggest, True)\n",
    "#     approx = cv.approxPolyDP(biggest, 0.02*peri, True)\n",
    "    ax = biggest[0][0]\n",
    "    ay = biggest[1][0]\n",
    "    bx = biggest[2][0]\n",
    "    by = biggest[3][0]\n",
    "    cx = biggest[4][0]\n",
    "    cy = biggest[5][0]\n",
    "    dx = biggest[6][0]\n",
    "    dy = biggest[7][0]\n",
    "\n",
    "    width, height = IMG_WIDTH, IMG_HEIGHT\n",
    "    pts1 = np.float32([[ax, ay], [bx, by], [cx, cy], [dx, dy]])\n",
    "    pts2 = np.float32([[0, 0], [width, 0], [0, height], [width, height]])\n",
    "\n",
    "    matrix = cv.getPerspectiveTransform(pts1, pts2)\n",
    "    img_perspective = cv.warpPerspective(img, matrix, (width, height))\n",
    "    img_corners = cv.cvtColor(img_perspective, cv.COLOR_BGR2GRAY)\n",
    "\n",
    "    thresh, img_binary = cv.threshold(img_corners, 125, 255, cv.THRESH_BINARY)\n",
    "    return img_binary, pts1, pts2"
   ]
  },
  {
   "cell_type": "code",
   "execution_count": 7,
   "metadata": {},
   "outputs": [],
   "source": [
    "def reorder(myPoints):\n",
    "    myPoints = myPoints.reshape((4, 2))\n",
    "    myPointsNew = np.zeros((4, 1, 2), dtype=np.int32)\n",
    "    add = myPoints.sum(1)\n",
    "    myPointsNew[0] = myPoints[np.argmin(add)]\n",
    "    myPointsNew[3] =myPoints[np.argmax(add)]\n",
    "    diff = np.diff(myPoints, axis=1)\n",
    "    myPointsNew[1] =myPoints[np.argmin(diff)]\n",
    "    myPointsNew[2] = myPoints[np.argmax(diff)]\n",
    "    return myPointsNew"
   ]
  },
  {
   "cell_type": "code",
   "execution_count": 8,
   "metadata": {},
   "outputs": [],
   "source": [
    "def possible(grid, x, y, n):\n",
    "    \"\"\"To check whether n can be inserted at position (x, y).\"\"\"\n",
    "    for i in range(9):\n",
    "        if grid[x][i] == n:\n",
    "            return False\n",
    "    for i in range(9):\n",
    "        if grid[i][y] == n:\n",
    "            return False\n",
    "    for i in range(int(x/3) * 3, int(x/3) * 3 + 3):\n",
    "        for j in range(int(y/3) * 3, int(y/3) * 3 + 3):\n",
    "            if grid[i][j] == n:\n",
    "                return False\n",
    "    return True\n",
    "\n",
    "def findNextCell(grid, x, y):\n",
    "        for i in range(x,9):\n",
    "                for j in range(y,9):\n",
    "                        if grid[i][j] == 0:\n",
    "                                return i, j\n",
    "        for i in range(0,9):\n",
    "                for j in range(0,9):\n",
    "                        if grid[i][j] == 0:\n",
    "                                return i, j\n",
    "        return -1,-1\n",
    "\n",
    "def solveSudoku(grid, x=0, y=0):\n",
    "        x, y = findNextCell(grid, x, y)\n",
    "        if x == -1:\n",
    "                return True\n",
    "        for n in range(1,10):\n",
    "                if possible(grid, x, y, n):\n",
    "                        grid[x][y] = n\n",
    "                        if solveSudoku(grid, x, y):\n",
    "                                return True\n",
    "                        grid[x][y] = 0\n",
    "        return False"
   ]
  },
  {
   "cell_type": "code",
   "execution_count": 9,
   "metadata": {},
   "outputs": [],
   "source": [
    "def identifyDigit(img, img_cropped):\n",
    "#     print(cv.countNonZero(img))\n",
    "    \"\"\"Identifies the digit from the cropped image\"\"\"\n",
    "    if cv.countNonZero(img_cropped) > 1550:\n",
    "        return 0\n",
    "    else:\n",
    "        return model.predict(np.array(img).reshape(1, 40, 40,1)).argmax() "
   ]
  },
  {
   "cell_type": "code",
   "execution_count": 37,
   "metadata": {},
   "outputs": [],
   "source": [
    "def img2grid(img_binary, grid):\n",
    "    \"\"\"Converts the image to a sudoku grid\"\"\"\n",
    "    side = 8\n",
    "    for i in range (9):\n",
    "        for j in range (9):\n",
    "            img_cropped = img_binary[int(i*IMG_WIDTH/9 + side):int(i*IMG_WIDTH/9 + IMG_WIDTH/9 - side), int(j*IMG_WIDTH/9 + side): int(j*IMG_WIDTH/9 + IMG_WIDTH/9 - side)]\n",
    "            img_cropped = cv.resize(img_cropped, (40, 40))\n",
    "            grid[i][j] = identifyDigit(img_cropped, cv.erode(img_cropped, np.ones((1, 1),np.uint8), iterations = 1))\n",
    "    return"
   ]
  },
  {
   "cell_type": "code",
   "execution_count": 11,
   "metadata": {},
   "outputs": [],
   "source": [
    "def showAnswer(grid, color = (0, 102, 0)):\n",
    "    imgSolved = np.zeros((IMG_WIDTH, IMG_HEIGHT, 3))\n",
    "    side = 20\n",
    "    for i in range(9):\n",
    "        for j in range(9):\n",
    "            if grid[i][j] != 0:\n",
    "                cv.putText(imgSolved, str(int(grid[i][j])), \n",
    "                           (int(j*IMG_WIDTH/9 + side), int((i+1)*IMG_WIDTH/9 - side)), \n",
    "                           cv.FONT_HERSHEY_SIMPLEX, 2.1, color, 3)\n",
    "    for i in range(10):\n",
    "        cv.line(imgSolved, (int(i*IMG_WIDTH/9), 0), (int(i*IMG_WIDTH/9), IMG_WIDTH), color, 5, 1)\n",
    "        cv.line(imgSolved, (0, int(i*IMG_WIDTH/9)), (IMG_WIDTH, int(i*IMG_WIDTH/9)), color, 5, 1)\n",
    "    return imgSolved"
   ]
  },
  {
   "cell_type": "code",
   "execution_count": 44,
   "metadata": {},
   "outputs": [],
   "source": [
    "def overlayAnswer(img, imgSolved, height, width, pts1, pts2):\n",
    "    matrix = cv.getPerspectiveTransform(pts2, pts1)\n",
    "    imgPerspective = cv.warpPerspective(imgSolved, matrix, (width, height))\n",
    "    cv.imshow(\"P\", imgPerspective)\n",
    "    imgPerspective = np.asarray(imgPerspective, np.uint8)\n",
    "    imgOverlayed = cv.addWeighted(imgPerspective, 2, img, 0.8, 1)\n",
    "    return imgOverlayed"
   ]
  },
  {
   "cell_type": "code",
   "execution_count": 47,
   "metadata": {
    "scrolled": true
   },
   "outputs": [
    {
     "name": "stdout",
     "output_type": "stream",
     "text": [
      "Sudoku Solved\n"
     ]
    }
   ],
   "source": [
    "grid = np.ones((9,9))\n",
    "try:\n",
    "    img = cv.imread(r'test\\5.jpg')\n",
    "    height, width, _ = img.shape\n",
    "    img = cv.resize(img, (IMG_WIDTH, IMG_HEIGHT))\n",
    "    imgGray = cv.cvtColor(img, cv.COLOR_BGR2GRAY)\n",
    "    imgBlur = cv.GaussianBlur(imgGray,(5, 5), 3)\n",
    "    imgThreshold = cv.adaptiveThreshold(imgBlur, 255, 1, 1, 11, 2)\n",
    "    img_contours = img.copy()\n",
    "except:\n",
    "    print('File Not Found')\n",
    "\n",
    "try:\n",
    "    img_big_contours = img.copy()\n",
    "\n",
    "    contours, hierarchy = cv.findContours(imgThreshold, cv.RETR_EXTERNAL, cv.CHAIN_APPROX_SIMPLE)\n",
    "    cv.drawContours(img_contours, contours, -1, (0, 255, 0), 3)\n",
    "\n",
    "    biggest = biggestContour(contours)\n",
    "    cv.drawContours(img_big_contours, biggest, -1, (0, 255, 0), 1)\n",
    "    biggest = np.array(reorder(biggest)).reshape(8,1)    \n",
    "    imgBinary, pts1, pts2 = getBinary(img, biggest)\n",
    "\n",
    "\n",
    "    kernel = np.ones((6, 6),np.uint8)\n",
    "    imgBinary = cv.morphologyEx(imgBinary,cv.MORPH_OPEN, kernel)\n",
    "\n",
    "    img2grid(imgBinary, grid)\n",
    "    mask = np.where(grid == 0, 1, 0)\n",
    "\n",
    "    if solveSudoku(grid):\n",
    "        imgSolved = showAnswer(mask * grid)\n",
    "        cv.imshow(\"s\", imgSolved)\n",
    "        imgOverlayed = overlayAnswer(img, imgSolved, IMG_WIDTH, IMG_HEIGHT, pts1, pts2)\n",
    "\n",
    "    else:\n",
    "        print('Sudoku Not Solvable')\n",
    "        print(grid)\n",
    "    cv.imshow('Answer', imgBinary)\n",
    "    cv.waitKey(10000)\n",
    "    cv.destroyAllWindows()\n",
    "    print('Sudoku Solved')\n",
    "except:\n",
    "    print('No Grid Detected')"
   ]
  },
  {
   "cell_type": "code",
   "execution_count": null,
   "metadata": {},
   "outputs": [],
   "source": [
    "# WEBCAM"
   ]
  },
  {
   "cell_type": "code",
   "execution_count": null,
   "metadata": {
    "scrolled": false
   },
   "outputs": [],
   "source": [
    "# while True:\n",
    "#     grid = np.ones((9,9))\n",
    "#     success, img = cap.read()\n",
    "#     try:\n",
    "#         height, width, _ = img.shape\n",
    "#         img = center_crop(img, img.shape)\n",
    "#         img = cv.resize(img, (IMG_WIDTH, IMG_HEIGHT))\n",
    "#         imgGray = cv.cvtColor(img, cv.COLOR_BGR2GRAY)\n",
    "#         imgBlur = cv.GaussianBlur(imgGray,(5, 5), 3)\n",
    "#         imgThreshold = cv.adaptiveThreshold(imgBlur, 255, 1, 1, 11, 2)\n",
    "#         img_contours = img.copy()\n",
    "\n",
    "#         contours, hierarchy = cv.findContours(imgThreshold, cv.RETR_EXTERNAL, cv.CHAIN_APPROX_NONE)\n",
    "#         cv.drawContours(img_contours, contours, -1, (0, 255, 0), 3)\n",
    "\n",
    "#         biggest = biggestContour(contours)\n",
    "#         cv.drawContours(img_big_contours, biggest, -1, (0, 255, 0), 1)\n",
    "#         biggest = np.array(reorder(biggest)).reshape(8,1)    \n",
    "#         imgBinary, pts1, pts2 = getBinary(img, biggest)\n",
    "\n",
    "\n",
    "#         kernel = np.ones((6, 6),np.uint8)\n",
    "#         imgBinary = cv.morphologyEx(imgBinary,cv.MORPH_OPEN, kernel)\n",
    "\n",
    "#         img2grid(imgBinary, grid)\n",
    "#         mask = np.where(grid == 0, 1, 0)\n",
    "\n",
    "#         if solveSudoku(grid):\n",
    "#             imgSolved = showAnswer(mask * grid)\n",
    "#             imgOverlayed = overlayAnswer(img, imgSolved, IMG_WIDTH, IMG_HEIGHT, pts1, pts2)\n",
    "#         else:\n",
    "#             print('Sudoku Not Solvable')\n",
    "#             print(grid)\n",
    "#     except:\n",
    "#         pass\n",
    "    \n",
    "#     cv.imshow('Webcam', img)\n",
    "#     if cv.waitKey(10) & 0xff == ord('q'):   \n",
    "#         cv.destroyAllWindows()\n",
    "#         break"
   ]
  },
  {
   "cell_type": "code",
   "execution_count": null,
   "metadata": {},
   "outputs": [],
   "source": []
  }
 ],
 "metadata": {
  "kernelspec": {
   "display_name": "Python 3",
   "language": "python",
   "name": "python3"
  },
  "language_info": {
   "codemirror_mode": {
    "name": "ipython",
    "version": 3
   },
   "file_extension": ".py",
   "mimetype": "text/x-python",
   "name": "python",
   "nbconvert_exporter": "python",
   "pygments_lexer": "ipython3",
   "version": "3.7.4"
  }
 },
 "nbformat": 4,
 "nbformat_minor": 2
}
