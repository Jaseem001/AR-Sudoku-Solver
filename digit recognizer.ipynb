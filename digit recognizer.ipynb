{
 "cells": [
  {
   "cell_type": "code",
   "execution_count": 1,
   "metadata": {},
   "outputs": [
    {
     "name": "stdout",
     "output_type": "stream",
     "text": [
      "Requirement already satisfied: scikit-learn==0.24.0 in c:\\users\\jasee\\appdata\\roaming\\python\\python37\\site-packages (0.24.0)\n",
      "Requirement already satisfied: joblib>=0.11 in c:\\users\\jasee\\anaconda3\\lib\\site-packages (from scikit-learn==0.24.0) (0.13.2)\n",
      "Requirement already satisfied: scipy>=0.19.1 in c:\\users\\jasee\\anaconda3\\lib\\site-packages (from scikit-learn==0.24.0) (1.4.1)\n",
      "Requirement already satisfied: threadpoolctl>=2.0.0 in c:\\users\\jasee\\appdata\\roaming\\python\\python37\\site-packages (from scikit-learn==0.24.0) (2.1.0)\n",
      "Requirement already satisfied: numpy>=1.13.3 in c:\\users\\jasee\\appdata\\roaming\\python\\python37\\site-packages (from scikit-learn==0.24.0) (1.18.5)\n"
     ]
    }
   ],
   "source": [
    "!pip install scikit-learn==0.24.0 --user"
   ]
  },
  {
   "cell_type": "code",
   "execution_count": 96,
   "metadata": {},
   "outputs": [],
   "source": [
    "import tensorflow as tf\n",
    "import datetime\n",
    "from tensorflow.keras.models import Sequential\n",
    "from tensorflow.keras.layers import Dense, Conv2D, Flatten, Dropout, MaxPooling2D\n",
    "from tensorflow.keras.preprocessing.image import ImageDataGenerator\n",
    "from tensorflow.keras import regularizers\n",
    "import matplotlib.pyplot as plt\n",
    "import os\n",
    "import glob\n",
    "import sklearn\n",
    "from sklearn.preprocessing import OneHotEncoder\n",
    "from sklearn.model_selection import train_test_split\n",
    "from sklearn.metrics import confusion_matrix\n",
    "import cv2 as cv\n",
    "import numpy as np\n",
    "from keras.preprocessing.image import ImageDataGenerator\n",
    "import random"
   ]
  },
  {
   "cell_type": "code",
   "execution_count": 97,
   "metadata": {},
   "outputs": [
    {
     "data": {
      "text/plain": [
       "'0.24.0'"
      ]
     },
     "execution_count": 97,
     "metadata": {},
     "output_type": "execute_result"
    }
   ],
   "source": [
    "sklearn.__version__"
   ]
  },
  {
   "cell_type": "code",
   "execution_count": 98,
   "metadata": {},
   "outputs": [],
   "source": [
    "X = []\n",
    "y = []"
   ]
  },
  {
   "cell_type": "code",
   "execution_count": 99,
   "metadata": {},
   "outputs": [],
   "source": [
    "for i in range(0, 10):\n",
    "    count = 0\n",
    "    path = 'all_data/' + str(i)\n",
    "    for file in glob.glob(path):\n",
    "        file_list = (random.sample(os.listdir(file), 300))\n",
    "        for j in range(300):\n",
    "            for f in glob.glob(path + '/' + str(file_list[j])):\n",
    "                img = cv.imread(f)\n",
    "                img = cv.cvtColor(img, cv.COLOR_BGR2GRAY)\n",
    "                img = cv.GaussianBlur(img,(5, 5), 3)\n",
    "                img = cv.resize(img, (40, 40))\n",
    "                X.append(np.array(img).reshape((40, 40)))\n",
    "                y.append(i)"
   ]
  },
  {
   "cell_type": "code",
   "execution_count": 100,
   "metadata": {},
   "outputs": [],
   "source": [
    "X = np.array(X)\n",
    "y = np.array(y)"
   ]
  },
  {
   "cell_type": "code",
   "execution_count": 101,
   "metadata": {},
   "outputs": [
    {
     "data": {
      "image/png": "[encoded data removed]",
      "text/plain": [
       "<Figure size 432x288 with 1 Axes>"
      ]
     },
     "metadata": {
      "needs_background": "light"
     },
     "output_type": "display_data"
    }
   ],
   "source": [
    "imgplot = plt.imshow(X[1109].reshape(40, 40), cmap='Greys')"
   ]
  },
  {
   "cell_type": "code",
   "execution_count": 102,
   "metadata": {},
   "outputs": [],
   "source": [
    "one_hot_encoder = OneHotEncoder(sparse = False)\n",
    "encoded = y.reshape(len(y), 1)\n",
    "y_ohe = one_hot_encoder.fit_transform(encoded)\n",
    "y_ohe = y_ohe.astype(np.uint8)"
   ]
  },
  {
   "cell_type": "code",
   "execution_count": 103,
   "metadata": {},
   "outputs": [
    {
     "name": "stdout",
     "output_type": "stream",
     "text": [
      "0\n",
      "[1 0 0 0 0 0 0 0 0 0]\n"
     ]
    }
   ],
   "source": [
    "pos = 25\n",
    "print(y[pos])\n",
    "print(y_ohe[pos])"
   ]
  },
  {
   "cell_type": "code",
   "execution_count": 104,
   "metadata": {},
   "outputs": [],
   "source": [
    "X = X.reshape(X.shape[0], 40, 40, 1)"
   ]
  },
  {
   "cell_type": "code",
   "execution_count": 105,
   "metadata": {},
   "outputs": [],
   "source": [
    "X_train, X_val, y_train, y_val = train_test_split(X, y_ohe, test_size=0.2, random_state=12345)"
   ]
  },
  {
   "cell_type": "code",
   "execution_count": 106,
   "metadata": {},
   "outputs": [
    {
     "name": "stdout",
     "output_type": "stream",
     "text": [
      "(2400, 40, 40, 1)\n",
      "(600, 40, 40, 1)\n"
     ]
    }
   ],
   "source": [
    "print(X_train.shape)\n",
    "print(X_val.shape)"
   ]
  },
  {
   "cell_type": "code",
   "execution_count": 107,
   "metadata": {},
   "outputs": [],
   "source": [
    "IMG_HEIGHT = 28\n",
    "IMG_WIDTH = 28"
   ]
  },
  {
   "cell_type": "code",
   "execution_count": 108,
   "metadata": {},
   "outputs": [],
   "source": [
    "datagen = ImageDataGenerator(\n",
    "    rotation_range = 0.15,\n",
    "    width_shift_range = 0.3,\n",
    "    height_shift_range = 0.3,\n",
    "    shear_range = 0.1,\n",
    "    zoom_range = (0.8, 1.2),\n",
    "    fill_mode = 'constant')\n",
    "# X_train = X_train.reshape(X_train.shape[0], 28, 28, 1)\n",
    "# X_val = X_val.reshape(X_val.shape[0], 28, 28, 1)\n",
    "# X_test = X_test.reshape(X_test.shape[0], 28, 28, 1)\n",
    "datagen.fit(X_train)"
   ]
  },
  {
   "cell_type": "code",
   "execution_count": 109,
   "metadata": {},
   "outputs": [],
   "source": [
    "model = Sequential([\n",
    "    Conv2D(32, kernel_size = 3, activation = 'relu', input_shape = (40, 40,1)),\n",
    "    MaxPooling2D(pool_size=2),\n",
    "    Dropout(0.2),\n",
    "    Conv2D(filters = 64, kernel_size = 3, activation = 'relu'),\n",
    "    MaxPooling2D(pool_size=2),\n",
    "    Dropout(0.1),\n",
    "    Conv2D(filters = 128, kernel_size = 3, activation = 'relu'),\n",
    "    Dropout(0.2),\n",
    "#     Conv2D(filters = 256, kernel_size = 3, activation = 'relu'),\n",
    "#     Dropout(0.2),\n",
    "    Flatten(),        \n",
    "#     Dense(256, activation='relu', kernel_initializer='he_uniform'),\n",
    "#     Dropout(0.3),    \n",
    "    Dense(128, activation='relu', kernel_initializer='he_uniform'),\n",
    "    Dropout(0.2),\n",
    "    Dense(32, activation='relu', kernel_initializer='he_uniform'),\n",
    "    Dropout(0.2),\n",
    "    Dense(10, activation='softmax'),\n",
    "])"
   ]
  },
  {
   "cell_type": "code",
   "execution_count": 110,
   "metadata": {},
   "outputs": [],
   "source": [
    "model.compile(\n",
    "    loss = 'categorical_crossentropy',\n",
    "    optimizer = 'adam',\n",
    "    metrics = ['accuracy']\n",
    ")"
   ]
  },
  {
   "cell_type": "code",
   "execution_count": 111,
   "metadata": {},
   "outputs": [
    {
     "name": "stdout",
     "output_type": "stream",
     "text": [
      "Epoch 1/50\n",
      "WARNING:tensorflow:AutoGraph could not transform <function Model.make_train_function.<locals>.train_function at 0x000001E58A698EE8> and will run it as-is.\n",
      "Please report this to the TensorFlow team. When filing the bug, set the verbosity to 10 (on Linux, `export AUTOGRAPH_VERBOSITY=10`) and attach the full output.\n",
      "Cause: 'arguments' object has no attribute 'posonlyargs'\n",
      "To silence this warning, decorate the function with @tf.autograph.experimental.do_not_convert\n",
      "WARNING: AutoGraph could not transform <function Model.make_train_function.<locals>.train_function at 0x000001E58A698EE8> and will run it as-is.\n",
      "Please report this to the TensorFlow team. When filing the bug, set the verbosity to 10 (on Linux, `export AUTOGRAPH_VERBOSITY=10`) and attach the full output.\n",
      "Cause: 'arguments' object has no attribute 'posonlyargs'\n",
      "To silence this warning, decorate the function with @tf.autograph.experimental.do_not_convert\n",
      "75/75 [==============================] - ETA: 0s - loss: 5.9117 - accuracy: 0.1013WARNING:tensorflow:AutoGraph could not transform <function Model.make_test_function.<locals>.test_function at 0x000001E58A720CA8> and will run it as-is.\n",
      "Please report this to the TensorFlow team. When filing the bug, set the verbosity to 10 (on Linux, `export AUTOGRAPH_VERBOSITY=10`) and attach the full output.\n",
      "Cause: 'arguments' object has no attribute 'posonlyargs'\n",
      "To silence this warning, decorate the function with @tf.autograph.experimental.do_not_convert\n",
      "WARNING: AutoGraph could not transform <function Model.make_test_function.<locals>.test_function at 0x000001E58A720CA8> and will run it as-is.\n",
      "Please report this to the TensorFlow team. When filing the bug, set the verbosity to 10 (on Linux, `export AUTOGRAPH_VERBOSITY=10`) and attach the full output.\n",
      "Cause: 'arguments' object has no attribute 'posonlyargs'\n",
      "To silence this warning, decorate the function with @tf.autograph.experimental.do_not_convert\n",
      "75/75 [==============================] - 3s 41ms/step - loss: 5.9117 - accuracy: 0.1013 - val_loss: 2.2984 - val_accuracy: 0.1433\n",
      "Epoch 2/50\n",
      "75/75 [==============================] - 3s 40ms/step - loss: 2.3199 - accuracy: 0.0896 - val_loss: 2.2992 - val_accuracy: 0.1133\n",
      "Epoch 3/50\n",
      "75/75 [==============================] - 3s 45ms/step - loss: 2.3174 - accuracy: 0.1108 - val_loss: 2.2978 - val_accuracy: 0.1517\n",
      "Epoch 4/50\n",
      "75/75 [==============================] - 5s 64ms/step - loss: 2.3116 - accuracy: 0.1046 - val_loss: 2.3031 - val_accuracy: 0.0817\n",
      "Epoch 5/50\n",
      "75/75 [==============================] - 5s 62ms/step - loss: 2.3064 - accuracy: 0.1058 - val_loss: 2.3025 - val_accuracy: 0.1200\n",
      "Epoch 6/50\n",
      "75/75 [==============================] - 5s 60ms/step - loss: 2.3078 - accuracy: 0.1088 - val_loss: 2.3039 - val_accuracy: 0.0883\n",
      "Epoch 7/50\n",
      "75/75 [==============================] - 5s 63ms/step - loss: 2.3041 - accuracy: 0.1046 - val_loss: 2.3054 - val_accuracy: 0.0817\n",
      "Epoch 8/50\n",
      "75/75 [==============================] - 5s 61ms/step - loss: 2.2974 - accuracy: 0.1187 - val_loss: 2.2727 - val_accuracy: 0.1167\n",
      "Epoch 9/50\n",
      "75/75 [==============================] - 5s 63ms/step - loss: 2.2960 - accuracy: 0.1167 - val_loss: 2.3045 - val_accuracy: 0.0817\n",
      "Epoch 10/50\n",
      "75/75 [==============================] - 4s 59ms/step - loss: 2.2889 - accuracy: 0.1150 - val_loss: 2.0669 - val_accuracy: 0.1417\n",
      "Epoch 11/50\n",
      "75/75 [==============================] - 5s 60ms/step - loss: 2.2848 - accuracy: 0.1200 - val_loss: 2.1536 - val_accuracy: 0.1217\n",
      "Epoch 12/50\n",
      "75/75 [==============================] - 5s 66ms/step - loss: 2.2448 - accuracy: 0.1517 - val_loss: 2.0338 - val_accuracy: 0.1850\n",
      "Epoch 13/50\n",
      "75/75 [==============================] - 4s 59ms/step - loss: 2.1540 - accuracy: 0.2004 - val_loss: 1.8275 - val_accuracy: 0.2233\n",
      "Epoch 14/50\n",
      "75/75 [==============================] - 4s 59ms/step - loss: 1.9449 - accuracy: 0.2808 - val_loss: 1.6829 - val_accuracy: 0.3450\n",
      "Epoch 15/50\n",
      "75/75 [==============================] - 4s 59ms/step - loss: 1.7856 - accuracy: 0.3271 - val_loss: 1.1836 - val_accuracy: 0.5267\n",
      "Epoch 16/50\n",
      "75/75 [==============================] - 4s 60ms/step - loss: 1.6189 - accuracy: 0.3833 - val_loss: 1.0326 - val_accuracy: 0.6450\n",
      "Epoch 17/50\n",
      "75/75 [==============================] - 5s 61ms/step - loss: 1.4358 - accuracy: 0.4642 - val_loss: 0.9281 - val_accuracy: 0.6817\n",
      "Epoch 18/50\n",
      "75/75 [==============================] - 5s 62ms/step - loss: 1.3081 - accuracy: 0.5025 - val_loss: 0.7339 - val_accuracy: 0.7700\n",
      "Epoch 19/50\n",
      "75/75 [==============================] - 5s 63ms/step - loss: 1.1894 - accuracy: 0.5525 - val_loss: 0.5965 - val_accuracy: 0.7967\n",
      "Epoch 20/50\n",
      "75/75 [==============================] - 5s 62ms/step - loss: 1.0598 - accuracy: 0.6108 - val_loss: 0.4318 - val_accuracy: 0.8383\n",
      "Epoch 21/50\n",
      "75/75 [==============================] - 5s 62ms/step - loss: 0.9231 - accuracy: 0.6525 - val_loss: 0.4649 - val_accuracy: 0.8300\n",
      "Epoch 22/50\n",
      "75/75 [==============================] - 5s 61ms/step - loss: 0.8407 - accuracy: 0.6950 - val_loss: 0.3298 - val_accuracy: 0.8783\n",
      "Epoch 23/50\n",
      "75/75 [==============================] - 5s 61ms/step - loss: 0.7879 - accuracy: 0.7000 - val_loss: 0.4860 - val_accuracy: 0.8083\n",
      "Epoch 24/50\n",
      "75/75 [==============================] - 5s 64ms/step - loss: 0.6868 - accuracy: 0.7467 - val_loss: 0.3043 - val_accuracy: 0.8767\n",
      "Epoch 25/50\n",
      "75/75 [==============================] - 5s 62ms/step - loss: 0.6441 - accuracy: 0.7700 - val_loss: 0.1900 - val_accuracy: 0.9533\n",
      "Epoch 26/50\n",
      "75/75 [==============================] - 5s 61ms/step - loss: 0.5724 - accuracy: 0.7921 - val_loss: 0.1621 - val_accuracy: 0.9717\n",
      "Epoch 27/50\n",
      "75/75 [==============================] - 5s 62ms/step - loss: 0.5424 - accuracy: 0.8037 - val_loss: 0.1428 - val_accuracy: 0.9633\n",
      "Epoch 28/50\n",
      "75/75 [==============================] - 5s 62ms/step - loss: 0.4958 - accuracy: 0.8321 - val_loss: 0.1333 - val_accuracy: 0.9667\n",
      "Epoch 29/50\n",
      "75/75 [==============================] - 5s 63ms/step - loss: 0.4631 - accuracy: 0.8383 - val_loss: 0.1349 - val_accuracy: 0.9617\n",
      "Epoch 30/50\n",
      "75/75 [==============================] - 5s 63ms/step - loss: 0.3922 - accuracy: 0.8679 - val_loss: 0.1123 - val_accuracy: 0.9717\n",
      "Epoch 31/50\n",
      "75/75 [==============================] - 5s 62ms/step - loss: 0.3863 - accuracy: 0.8746 - val_loss: 0.1010 - val_accuracy: 0.9733\n",
      "Epoch 32/50\n",
      "75/75 [==============================] - 5s 62ms/step - loss: 0.3273 - accuracy: 0.8908 - val_loss: 0.1159 - val_accuracy: 0.9683\n",
      "Epoch 33/50\n",
      "75/75 [==============================] - 5s 68ms/step - loss: 0.2813 - accuracy: 0.9083 - val_loss: 0.0778 - val_accuracy: 0.9800\n",
      "Epoch 34/50\n",
      "75/75 [==============================] - 5s 62ms/step - loss: 0.3184 - accuracy: 0.9033 - val_loss: 0.0835 - val_accuracy: 0.9767\n",
      "Epoch 35/50\n",
      "75/75 [==============================] - 5s 63ms/step - loss: 0.2600 - accuracy: 0.9196 - val_loss: 0.0831 - val_accuracy: 0.9733\n",
      "Epoch 36/50\n",
      "75/75 [==============================] - 5s 63ms/step - loss: 0.2559 - accuracy: 0.9233 - val_loss: 0.0798 - val_accuracy: 0.9833\n",
      "Epoch 37/50\n",
      "75/75 [==============================] - 5s 63ms/step - loss: 0.2626 - accuracy: 0.9217 - val_loss: 0.0724 - val_accuracy: 0.9817\n",
      "Epoch 38/50\n",
      "75/75 [==============================] - 5s 63ms/step - loss: 0.2817 - accuracy: 0.9162 - val_loss: 0.0610 - val_accuracy: 0.9833\n",
      "Epoch 39/50\n",
      "75/75 [==============================] - 5s 65ms/step - loss: 0.2020 - accuracy: 0.9408 - val_loss: 0.0601 - val_accuracy: 0.9883\n",
      "Epoch 40/50\n",
      "75/75 [==============================] - 5s 63ms/step - loss: 0.2705 - accuracy: 0.9225 - val_loss: 0.0503 - val_accuracy: 0.9867\n",
      "Epoch 41/50\n",
      "75/75 [==============================] - 5s 63ms/step - loss: 0.1854 - accuracy: 0.9429 - val_loss: 0.0515 - val_accuracy: 0.9833\n",
      "Epoch 42/50\n",
      "75/75 [==============================] - 5s 62ms/step - loss: 0.2077 - accuracy: 0.9408 - val_loss: 0.0658 - val_accuracy: 0.9833\n",
      "Epoch 43/50\n",
      "75/75 [==============================] - 5s 63ms/step - loss: 0.1768 - accuracy: 0.9438 - val_loss: 0.0790 - val_accuracy: 0.9833\n",
      "Epoch 44/50\n",
      "75/75 [==============================] - 5s 62ms/step - loss: 0.1951 - accuracy: 0.9396 - val_loss: 0.0786 - val_accuracy: 0.9867\n",
      "Epoch 45/50\n",
      "75/75 [==============================] - 5s 61ms/step - loss: 0.1750 - accuracy: 0.9471 - val_loss: 0.0529 - val_accuracy: 0.9867\n",
      "Epoch 46/50\n",
      "75/75 [==============================] - 5s 61ms/step - loss: 0.1833 - accuracy: 0.9454 - val_loss: 0.0866 - val_accuracy: 0.9783\n",
      "Epoch 47/50\n",
      "75/75 [==============================] - 5s 60ms/step - loss: 0.1580 - accuracy: 0.9571 - val_loss: 0.0817 - val_accuracy: 0.9833\n",
      "Epoch 48/50\n",
      "75/75 [==============================] - 5s 61ms/step - loss: 0.1759 - accuracy: 0.9483 - val_loss: 0.1187 - val_accuracy: 0.9850\n",
      "Epoch 49/50\n",
      "75/75 [==============================] - 5s 62ms/step - loss: 0.1945 - accuracy: 0.9483 - val_loss: 0.1032 - val_accuracy: 0.9867\n",
      "Epoch 50/50\n",
      "75/75 [==============================] - 5s 64ms/step - loss: 0.1311 - accuracy: 0.9617 - val_loss: 0.1147 - val_accuracy: 0.9767\n"
     ]
    }
   ],
   "source": [
    "ep = 50\n",
    "history = model.fit(datagen.flow(X_train, y_train, batch_size = 32), \n",
    "                    steps_per_epoch = len(X_train)/32, epochs = ep, \n",
    "                    validation_data = (X_val, y_val))"
   ]
  },
  {
   "cell_type": "code",
   "execution_count": 112,
   "metadata": {},
   "outputs": [
    {
     "data": {
      "text/plain": [
       "Text(0.5, 1.0, 'Training and Validation Loss')"
      ]
     },
     "execution_count": 112,
     "metadata": {},
     "output_type": "execute_result"
    },
    {
     "data": {
      "image/png": "[encoded data removed]",
      "text/plain": [
       "<Figure size 576x576 with 2 Axes>"
      ]
     },
     "metadata": {
      "needs_background": "light"
     },
     "output_type": "display_data"
    }
   ],
   "source": [
    "acc = history.history['accuracy']\n",
    "val_acc = history.history['val_accuracy']\n",
    "\n",
    "loss = history.history['loss']\n",
    "val_loss = history.history['val_loss']\n",
    "\n",
    "epochs_range = range(ep)\n",
    "\n",
    "plt.figure(figsize=(8, 8))\n",
    "plt.subplot(1, 2, 1)\n",
    "plt.plot(epochs_range, acc, label='Training Accuracy')\n",
    "plt.plot(epochs_range, val_acc, label='Validation Accuracy')\n",
    "plt.legend(loc='lower right')\n",
    "plt.title('Training and Validation Accuracy')\n",
    "\n",
    "plt.subplot(1, 2, 2)\n",
    "plt.plot(epochs_range, loss, label='Training Loss')\n",
    "plt.plot(epochs_range, val_loss, label='Validation Loss')\n",
    "plt.legend(loc='upper right')\n",
    "plt.title('Training and Validation Loss')"
   ]
  },
  {
   "cell_type": "code",
   "execution_count": 1,
   "metadata": {},
   "outputs": [
    {
     "ename": "NameError",
     "evalue": "name 'model' is not defined",
     "output_type": "error",
     "traceback": [
      "\u001b[1;31m---------------------------------------------------------------------------\u001b[0m",
      "\u001b[1;31mNameError\u001b[0m                                 Traceback (most recent call last)",
      "\u001b[1;32m<ipython-input-1-f2f543664c3a>\u001b[0m in \u001b[0;36m<module>\u001b[1;34m\u001b[0m\n\u001b[1;32m----> 1\u001b[1;33m \u001b[0mmodel\u001b[0m\u001b[1;33m.\u001b[0m\u001b[0msave\u001b[0m\u001b[1;33m(\u001b[0m\u001b[1;34m\"Models\\model_40x40.hdf5\"\u001b[0m\u001b[1;33m)\u001b[0m\u001b[1;33m\u001b[0m\u001b[1;33m\u001b[0m\u001b[0m\n\u001b[0m",
      "\u001b[1;31mNameError\u001b[0m: name 'model' is not defined"
     ]
    }
   ],
   "source": [
    "model.save(\"Models\\model_40x40.hdf5\")"
   ]
  },
  {
   "cell_type": "code",
   "execution_count": null,
   "metadata": {},
   "outputs": [],
   "source": []
  }
 ],
 "metadata": {
  "kernelspec": {
   "display_name": "Python 3",
   "language": "python",
   "name": "python3"
  },
  "language_info": {
   "codemirror_mode": {
    "name": "ipython",
    "version": 3
   },
   "file_extension": ".py",
   "mimetype": "text/x-python",
   "name": "python",
   "nbconvert_exporter": "python",
   "pygments_lexer": "ipython3",
   "version": "3.7.4"
  }
 },
 "nbformat": 4,
 "nbformat_minor": 2
}
